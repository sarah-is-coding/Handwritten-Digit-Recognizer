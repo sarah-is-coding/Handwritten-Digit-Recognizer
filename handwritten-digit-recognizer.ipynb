{
 "cells": [
  {
   "cell_type": "code",
   "execution_count": 1,
   "id": "797de910",
   "metadata": {
    "_cell_guid": "b1076dfc-b9ad-4769-8c92-a6c4dae69d19",
    "_uuid": "8f2839f25d086af736a60e9eeb907d3b93b6e0e5",
    "execution": {
     "iopub.execute_input": "2022-06-22T17:27:05.239792Z",
     "iopub.status.busy": "2022-06-22T17:27:05.238944Z",
     "iopub.status.idle": "2022-06-22T17:27:14.433698Z",
     "shell.execute_reply": "2022-06-22T17:27:14.432318Z"
    },
    "papermill": {
     "duration": 9.238094,
     "end_time": "2022-06-22T17:27:14.437518",
     "exception": false,
     "start_time": "2022-06-22T17:27:05.199424",
     "status": "completed"
    },
    "tags": []
   },
   "outputs": [],
   "source": [
    "# This Python 3 environment comes with many helpful analytics libraries installed\n",
    "# It is defined by the kaggle/python Docker image: https://github.com/kaggle/docker-python\n",
    "# For example, here's several helpful packages to load\n",
    "\n",
    "# You can write up to 20GB to the current directory (/kaggle/working/) that gets preserved as output when you create a version using \"Save & Run All\" \n",
    "# You can also write temporary files to /kaggle/temp/, but they won't be saved outside of the current session\n",
    "\n",
    "# Input data files are available in the read-only \"../input/\" directory\n",
    "# For example, running this (by clicking run or pressing Shift+Enter) will list all files under the input directory\n",
    "\n",
    "# Shift + Enter to run current cell\n",
    "\n",
    "import numpy as np # linear algebra\n",
    "import pandas as pd # data processing, CSV file I/O (e.g. pd.read_csv)\n",
    "import pandas as pd\n",
    "import numpy as np\n",
    "import matplotlib.pyplot as plt\n",
    "import matplotlib.image as mpimg\n",
    "import seaborn as sns\n",
    "%matplotlib inline\n",
    "\n",
    "np.random.seed(2)\n",
    "\n",
    "import tensorflow as tf\n",
    "from tensorflow import keras\n",
    "from tensorflow.keras import layers\n",
    "\n",
    "from sklearn.model_selection import train_test_split\n",
    "from sklearn.metrics import confusion_matrix\n",
    "import itertools\n",
    "\n",
    "from keras.utils.np_utils import to_categorical # convert to one-hot-encoding\n",
    "from keras.models import Sequential\n",
    "from keras.layers import Dense, Dropout, Flatten, Conv2D, MaxPooling2D, Lambda\n",
    "from tensorflow.keras.optimizers import Adam\n",
    "from keras.preprocessing.image import ImageDataGenerator\n",
    "from keras.callbacks import ReduceLROnPlateau\n",
    "from keras import  backend as K\n",
    "\n",
    "from subprocess import check_output"
   ]
  },
  {
   "cell_type": "code",
   "execution_count": 2,
   "id": "b85f1072",
   "metadata": {
    "execution": {
     "iopub.execute_input": "2022-06-22T17:27:14.515019Z",
     "iopub.status.busy": "2022-06-22T17:27:14.514458Z",
     "iopub.status.idle": "2022-06-22T17:27:21.439710Z",
     "shell.execute_reply": "2022-06-22T17:27:21.438389Z"
    },
    "papermill": {
     "duration": 6.966593,
     "end_time": "2022-06-22T17:27:21.442687",
     "exception": false,
     "start_time": "2022-06-22T17:27:14.476094",
     "status": "completed"
    },
    "tags": []
   },
   "outputs": [],
   "source": [
    "train = pd.read_csv(\"../input/digit-recognizer/train.csv\")\n",
    "test = pd.read_csv(\"../input/digit-recognizer/test.csv\")"
   ]
  },
  {
   "cell_type": "code",
   "execution_count": 3,
   "id": "c78dea53",
   "metadata": {
    "execution": {
     "iopub.execute_input": "2022-06-22T17:27:21.521221Z",
     "iopub.status.busy": "2022-06-22T17:27:21.520867Z",
     "iopub.status.idle": "2022-06-22T17:27:21.551513Z",
     "shell.execute_reply": "2022-06-22T17:27:21.550441Z"
    },
    "papermill": {
     "duration": 0.072525,
     "end_time": "2022-06-22T17:27:21.554308",
     "exception": false,
     "start_time": "2022-06-22T17:27:21.481783",
     "status": "completed"
    },
    "tags": []
   },
   "outputs": [
    {
     "data": {
      "text/html": [
       "<div>\n",
       "<style scoped>\n",
       "    .dataframe tbody tr th:only-of-type {\n",
       "        vertical-align: middle;\n",
       "    }\n",
       "\n",
       "    .dataframe tbody tr th {\n",
       "        vertical-align: top;\n",
       "    }\n",
       "\n",
       "    .dataframe thead th {\n",
       "        text-align: right;\n",
       "    }\n",
       "</style>\n",
       "<table border=\"1\" class=\"dataframe\">\n",
       "  <thead>\n",
       "    <tr style=\"text-align: right;\">\n",
       "      <th></th>\n",
       "      <th>label</th>\n",
       "      <th>pixel0</th>\n",
       "      <th>pixel1</th>\n",
       "      <th>pixel2</th>\n",
       "      <th>pixel3</th>\n",
       "      <th>pixel4</th>\n",
       "      <th>pixel5</th>\n",
       "      <th>pixel6</th>\n",
       "      <th>pixel7</th>\n",
       "      <th>pixel8</th>\n",
       "      <th>...</th>\n",
       "      <th>pixel774</th>\n",
       "      <th>pixel775</th>\n",
       "      <th>pixel776</th>\n",
       "      <th>pixel777</th>\n",
       "      <th>pixel778</th>\n",
       "      <th>pixel779</th>\n",
       "      <th>pixel780</th>\n",
       "      <th>pixel781</th>\n",
       "      <th>pixel782</th>\n",
       "      <th>pixel783</th>\n",
       "    </tr>\n",
       "  </thead>\n",
       "  <tbody>\n",
       "    <tr>\n",
       "      <th>0</th>\n",
       "      <td>1</td>\n",
       "      <td>0</td>\n",
       "      <td>0</td>\n",
       "      <td>0</td>\n",
       "      <td>0</td>\n",
       "      <td>0</td>\n",
       "      <td>0</td>\n",
       "      <td>0</td>\n",
       "      <td>0</td>\n",
       "      <td>0</td>\n",
       "      <td>...</td>\n",
       "      <td>0</td>\n",
       "      <td>0</td>\n",
       "      <td>0</td>\n",
       "      <td>0</td>\n",
       "      <td>0</td>\n",
       "      <td>0</td>\n",
       "      <td>0</td>\n",
       "      <td>0</td>\n",
       "      <td>0</td>\n",
       "      <td>0</td>\n",
       "    </tr>\n",
       "    <tr>\n",
       "      <th>1</th>\n",
       "      <td>0</td>\n",
       "      <td>0</td>\n",
       "      <td>0</td>\n",
       "      <td>0</td>\n",
       "      <td>0</td>\n",
       "      <td>0</td>\n",
       "      <td>0</td>\n",
       "      <td>0</td>\n",
       "      <td>0</td>\n",
       "      <td>0</td>\n",
       "      <td>...</td>\n",
       "      <td>0</td>\n",
       "      <td>0</td>\n",
       "      <td>0</td>\n",
       "      <td>0</td>\n",
       "      <td>0</td>\n",
       "      <td>0</td>\n",
       "      <td>0</td>\n",
       "      <td>0</td>\n",
       "      <td>0</td>\n",
       "      <td>0</td>\n",
       "    </tr>\n",
       "    <tr>\n",
       "      <th>2</th>\n",
       "      <td>1</td>\n",
       "      <td>0</td>\n",
       "      <td>0</td>\n",
       "      <td>0</td>\n",
       "      <td>0</td>\n",
       "      <td>0</td>\n",
       "      <td>0</td>\n",
       "      <td>0</td>\n",
       "      <td>0</td>\n",
       "      <td>0</td>\n",
       "      <td>...</td>\n",
       "      <td>0</td>\n",
       "      <td>0</td>\n",
       "      <td>0</td>\n",
       "      <td>0</td>\n",
       "      <td>0</td>\n",
       "      <td>0</td>\n",
       "      <td>0</td>\n",
       "      <td>0</td>\n",
       "      <td>0</td>\n",
       "      <td>0</td>\n",
       "    </tr>\n",
       "    <tr>\n",
       "      <th>3</th>\n",
       "      <td>4</td>\n",
       "      <td>0</td>\n",
       "      <td>0</td>\n",
       "      <td>0</td>\n",
       "      <td>0</td>\n",
       "      <td>0</td>\n",
       "      <td>0</td>\n",
       "      <td>0</td>\n",
       "      <td>0</td>\n",
       "      <td>0</td>\n",
       "      <td>...</td>\n",
       "      <td>0</td>\n",
       "      <td>0</td>\n",
       "      <td>0</td>\n",
       "      <td>0</td>\n",
       "      <td>0</td>\n",
       "      <td>0</td>\n",
       "      <td>0</td>\n",
       "      <td>0</td>\n",
       "      <td>0</td>\n",
       "      <td>0</td>\n",
       "    </tr>\n",
       "    <tr>\n",
       "      <th>4</th>\n",
       "      <td>0</td>\n",
       "      <td>0</td>\n",
       "      <td>0</td>\n",
       "      <td>0</td>\n",
       "      <td>0</td>\n",
       "      <td>0</td>\n",
       "      <td>0</td>\n",
       "      <td>0</td>\n",
       "      <td>0</td>\n",
       "      <td>0</td>\n",
       "      <td>...</td>\n",
       "      <td>0</td>\n",
       "      <td>0</td>\n",
       "      <td>0</td>\n",
       "      <td>0</td>\n",
       "      <td>0</td>\n",
       "      <td>0</td>\n",
       "      <td>0</td>\n",
       "      <td>0</td>\n",
       "      <td>0</td>\n",
       "      <td>0</td>\n",
       "    </tr>\n",
       "  </tbody>\n",
       "</table>\n",
       "<p>5 rows × 785 columns</p>\n",
       "</div>"
      ],
      "text/plain": [
       "   label  pixel0  pixel1  pixel2  pixel3  pixel4  pixel5  pixel6  pixel7  \\\n",
       "0      1       0       0       0       0       0       0       0       0   \n",
       "1      0       0       0       0       0       0       0       0       0   \n",
       "2      1       0       0       0       0       0       0       0       0   \n",
       "3      4       0       0       0       0       0       0       0       0   \n",
       "4      0       0       0       0       0       0       0       0       0   \n",
       "\n",
       "   pixel8  ...  pixel774  pixel775  pixel776  pixel777  pixel778  pixel779  \\\n",
       "0       0  ...         0         0         0         0         0         0   \n",
       "1       0  ...         0         0         0         0         0         0   \n",
       "2       0  ...         0         0         0         0         0         0   \n",
       "3       0  ...         0         0         0         0         0         0   \n",
       "4       0  ...         0         0         0         0         0         0   \n",
       "\n",
       "   pixel780  pixel781  pixel782  pixel783  \n",
       "0         0         0         0         0  \n",
       "1         0         0         0         0  \n",
       "2         0         0         0         0  \n",
       "3         0         0         0         0  \n",
       "4         0         0         0         0  \n",
       "\n",
       "[5 rows x 785 columns]"
      ]
     },
     "execution_count": 3,
     "metadata": {},
     "output_type": "execute_result"
    }
   ],
   "source": [
    "train.head()"
   ]
  },
  {
   "cell_type": "code",
   "execution_count": 4,
   "id": "c2e1bcff",
   "metadata": {
    "execution": {
     "iopub.execute_input": "2022-06-22T17:27:21.634753Z",
     "iopub.status.busy": "2022-06-22T17:27:21.634423Z",
     "iopub.status.idle": "2022-06-22T17:27:21.828649Z",
     "shell.execute_reply": "2022-06-22T17:27:21.827407Z"
    },
    "papermill": {
     "duration": 0.237437,
     "end_time": "2022-06-22T17:27:21.831099",
     "exception": false,
     "start_time": "2022-06-22T17:27:21.593662",
     "status": "completed"
    },
    "tags": []
   },
   "outputs": [],
   "source": [
    "# separate lables and pixel data\n",
    "x_train = train.drop(labels = ['label'], axis = 1)\n",
    "y_train = train['label']"
   ]
  },
  {
   "cell_type": "markdown",
   "id": "c76a2e47",
   "metadata": {
    "papermill": {
     "duration": 0.037924,
     "end_time": "2022-06-22T17:27:21.910427",
     "exception": false,
     "start_time": "2022-06-22T17:27:21.872503",
     "status": "completed"
    },
    "tags": []
   },
   "source": [
    "# Feature Scaling, Normalize to (0-1)"
   ]
  },
  {
   "cell_type": "markdown",
   "id": "b1bfe2fe",
   "metadata": {
    "papermill": {
     "duration": 0.038806,
     "end_time": "2022-06-22T17:27:21.986946",
     "exception": false,
     "start_time": "2022-06-22T17:27:21.948140",
     "status": "completed"
    },
    "tags": []
   },
   "source": [
    "Normalization to reduce effects of illumination differences. CNN will work faster. Normalization is reccommended for neural networks over standardization"
   ]
  },
  {
   "cell_type": "code",
   "execution_count": 5,
   "id": "240ab2a1",
   "metadata": {
    "execution": {
     "iopub.execute_input": "2022-06-22T17:27:22.064959Z",
     "iopub.status.busy": "2022-06-22T17:27:22.064633Z",
     "iopub.status.idle": "2022-06-22T17:27:22.233549Z",
     "shell.execute_reply": "2022-06-22T17:27:22.232524Z"
    },
    "papermill": {
     "duration": 0.210611,
     "end_time": "2022-06-22T17:27:22.236225",
     "exception": false,
     "start_time": "2022-06-22T17:27:22.025614",
     "status": "completed"
    },
    "tags": []
   },
   "outputs": [
    {
     "name": "stdout",
     "output_type": "stream",
     "text": [
      "x_train (42000, 784)\n",
      "test (28000, 784)\n"
     ]
    }
   ],
   "source": [
    "x_train = x_train / 255.0\n",
    "test = test / 255.0\n",
    "\n",
    "print('x_train', x_train.shape)\n",
    "print('test', test.shape)"
   ]
  },
  {
   "cell_type": "markdown",
   "id": "16f20b31",
   "metadata": {
    "papermill": {
     "duration": 0.039132,
     "end_time": "2022-06-22T17:27:22.314994",
     "exception": false,
     "start_time": "2022-06-22T17:27:22.275862",
     "status": "completed"
    },
    "tags": []
   },
   "source": [
    "# Reshape to 28x28"
   ]
  },
  {
   "cell_type": "markdown",
   "id": "cb30897a",
   "metadata": {
    "papermill": {
     "duration": 0.039671,
     "end_time": "2022-06-22T17:27:22.393189",
     "exception": false,
     "start_time": "2022-06-22T17:27:22.353518",
     "status": "completed"
    },
    "tags": []
   },
   "source": [
    "Change to a 28 x 28 x 1 3D matrices with 1 being the black-white (greyscale) value. The first parameter (-1) is simply grabbing the number of images in the dataset"
   ]
  },
  {
   "cell_type": "code",
   "execution_count": 6,
   "id": "22beb9c9",
   "metadata": {
    "execution": {
     "iopub.execute_input": "2022-06-22T17:27:22.480113Z",
     "iopub.status.busy": "2022-06-22T17:27:22.478823Z",
     "iopub.status.idle": "2022-06-22T17:27:22.485938Z",
     "shell.execute_reply": "2022-06-22T17:27:22.485007Z"
    },
    "papermill": {
     "duration": 0.052929,
     "end_time": "2022-06-22T17:27:22.489230",
     "exception": false,
     "start_time": "2022-06-22T17:27:22.436301",
     "status": "completed"
    },
    "tags": []
   },
   "outputs": [
    {
     "name": "stdout",
     "output_type": "stream",
     "text": [
      "x_train (42000, 28, 28, 1)\n",
      "test (28000, 28, 28, 1)\n"
     ]
    }
   ],
   "source": [
    "x_train = x_train.values.reshape(-1,28,28,1)\n",
    "test = test.values.reshape(-1,28,28,1)\n",
    "\n",
    "print('x_train', x_train.shape)\n",
    "print('test', test.shape)"
   ]
  },
  {
   "cell_type": "markdown",
   "id": "9737d6c8",
   "metadata": {
    "papermill": {
     "duration": 0.038589,
     "end_time": "2022-06-22T17:27:22.567772",
     "exception": false,
     "start_time": "2022-06-22T17:27:22.529183",
     "status": "completed"
    },
    "tags": []
   },
   "source": [
    "# Visualize Data"
   ]
  },
  {
   "cell_type": "code",
   "execution_count": 7,
   "id": "261e9d80",
   "metadata": {
    "execution": {
     "iopub.execute_input": "2022-06-22T17:27:22.650942Z",
     "iopub.status.busy": "2022-06-22T17:27:22.650420Z",
     "iopub.status.idle": "2022-06-22T17:27:23.005214Z",
     "shell.execute_reply": "2022-06-22T17:27:23.004096Z"
    },
    "papermill": {
     "duration": 0.398404,
     "end_time": "2022-06-22T17:27:23.007847",
     "exception": false,
     "start_time": "2022-06-22T17:27:22.609443",
     "status": "completed"
    },
    "tags": []
   },
   "outputs": [
    {
     "data": {
      "image/png": "[encoded data removed]",
      "text/plain": [
       "<Figure size 432x288 with 3 Axes>"
      ]
     },
     "metadata": {
      "needs_background": "light"
     },
     "output_type": "display_data"
    }
   ],
   "source": [
    "for i in range(6, 9):\n",
    "    plt.subplot(330 + (i+1))\n",
    "    plt.imshow(x_train[i], cmap=plt.get_cmap('gray'))\n",
    "    plt.title(y_train[i]);"
   ]
  },
  {
   "cell_type": "markdown",
   "id": "3a1615cf",
   "metadata": {
    "papermill": {
     "duration": 0.039438,
     "end_time": "2022-06-22T17:27:23.087261",
     "exception": false,
     "start_time": "2022-06-22T17:27:23.047823",
     "status": "completed"
    },
    "tags": []
   },
   "source": [
    "# One-Hot-Encode"
   ]
  },
  {
   "cell_type": "markdown",
   "id": "4ac62d6b",
   "metadata": {
    "papermill": {
     "duration": 0.039376,
     "end_time": "2022-06-22T17:27:23.166604",
     "exception": false,
     "start_time": "2022-06-22T17:27:23.127228",
     "status": "completed"
    },
    "tags": []
   },
   "source": [
    "\"With one-hot, we convert each categorical value into a new categorical column and assign a binary value of 1 or 0 to those columns. Each integer value is represented as a binary vector. All the values are zero, and the index is marked with a 1.\n",
    "\n",
    "One hot encoding is useful for data that has no relationship to each other. Machine learning algorithms treat the order of numbers as an attribute of significance. In other words, they will read a higher number as better or more important than a lower number.\n",
    "\n",
    "While this is helpful for some ordinal situations, some input data does not have any ranking for category values, and this can lead to issues with predictions and poor performance. That’s when one hot encoding saves the day.\"\n",
    "\n",
    "* zero,   one,  two\n",
    "* 1,      0,      0\n",
    "* 0,      1,      0\n",
    "* 0,      0,      1\n",
    "* 0,      0,      0\n",
    "* 0,      0,      0\n",
    "* 0,      0,      0\n",
    "* 0,      0,      0\n",
    "* 0,      0,      0\n",
    "* 0,      0,      0\n",
    "* 0,      0,      0\n",
    "\n",
    "num_classes is 10 because the digit can be 0-9"
   ]
  },
  {
   "cell_type": "code",
   "execution_count": 8,
   "id": "bdfcba4f",
   "metadata": {
    "execution": {
     "iopub.execute_input": "2022-06-22T17:27:23.249232Z",
     "iopub.status.busy": "2022-06-22T17:27:23.248448Z",
     "iopub.status.idle": "2022-06-22T17:27:23.254385Z",
     "shell.execute_reply": "2022-06-22T17:27:23.253676Z"
    },
    "papermill": {
     "duration": 0.049943,
     "end_time": "2022-06-22T17:27:23.256554",
     "exception": false,
     "start_time": "2022-06-22T17:27:23.206611",
     "status": "completed"
    },
    "tags": []
   },
   "outputs": [],
   "source": [
    "y_train = to_categorical(y_train, num_classes = 10)"
   ]
  },
  {
   "cell_type": "markdown",
   "id": "381f5e07",
   "metadata": {
    "papermill": {
     "duration": 0.042969,
     "end_time": "2022-06-22T17:27:23.339983",
     "exception": false,
     "start_time": "2022-06-22T17:27:23.297014",
     "status": "completed"
    },
    "tags": []
   },
   "source": [
    "# Train Test Split"
   ]
  },
  {
   "cell_type": "markdown",
   "id": "c7c5c33f",
   "metadata": {
    "papermill": {
     "duration": 0.041357,
     "end_time": "2022-06-22T17:27:23.420950",
     "exception": false,
     "start_time": "2022-06-22T17:27:23.379593",
     "status": "completed"
    },
    "tags": []
   },
   "source": [
    "Define a single variable that contains a static random seed and use it across pipeline in order to reproduce the same randomness everytime the algorithm is run "
   ]
  },
  {
   "cell_type": "code",
   "execution_count": 9,
   "id": "975fa992",
   "metadata": {
    "execution": {
     "iopub.execute_input": "2022-06-22T17:27:23.524034Z",
     "iopub.status.busy": "2022-06-22T17:27:23.523121Z",
     "iopub.status.idle": "2022-06-22T17:27:23.528076Z",
     "shell.execute_reply": "2022-06-22T17:27:23.527399Z"
    },
    "papermill": {
     "duration": 0.063033,
     "end_time": "2022-06-22T17:27:23.531146",
     "exception": false,
     "start_time": "2022-06-22T17:27:23.468113",
     "status": "completed"
    },
    "tags": []
   },
   "outputs": [],
   "source": [
    "seed_value = 3"
   ]
  },
  {
   "cell_type": "markdown",
   "id": "6cc010eb",
   "metadata": {
    "papermill": {
     "duration": 0.042245,
     "end_time": "2022-06-22T17:27:23.622273",
     "exception": false,
     "start_time": "2022-06-22T17:27:23.580028",
     "status": "completed"
    },
    "tags": []
   },
   "source": [
    "* test size is 10%\n",
    "* train size is 90%\n",
    "\n",
    "**test_sizefloat or int, default=None**\n",
    "If float, should be between 0.0 and 1.0 and represent the proportion of the dataset to include in the test split. If int, represents the absolute number of test samples. If None, the value is set to the complement of the train size. If train_size is also None, it will be set to 0.25.\n",
    "\n",
    "10% of the training set will be used as the validation set which the model is evaluated and 90% is used to train the model\n",
    "\n",
    "We can choose this at random because the dataset is balanced\n",
    "\n",
    "**random_stateint, RandomState instance or None, default=None**\n",
    "Controls the shuffling applied to the data before applying the split. Pass an int for reproducible output across multiple function calls. "
   ]
  },
  {
   "cell_type": "code",
   "execution_count": 10,
   "id": "72ac4668",
   "metadata": {
    "execution": {
     "iopub.execute_input": "2022-06-22T17:27:23.705668Z",
     "iopub.status.busy": "2022-06-22T17:27:23.705284Z",
     "iopub.status.idle": "2022-06-22T17:27:24.978528Z",
     "shell.execute_reply": "2022-06-22T17:27:24.977227Z"
    },
    "papermill": {
     "duration": 1.317994,
     "end_time": "2022-06-22T17:27:24.981372",
     "exception": false,
     "start_time": "2022-06-22T17:27:23.663378",
     "status": "completed"
    },
    "tags": []
   },
   "outputs": [],
   "source": [
    "x_train, x_temptest, y_train, y_temptest = train_test_split(x_train, y_train, test_size = 0.1, random_state = seed_value)"
   ]
  },
  {
   "cell_type": "markdown",
   "id": "e3eb2199",
   "metadata": {
    "papermill": {
     "duration": 0.042093,
     "end_time": "2022-06-22T17:27:25.069858",
     "exception": false,
     "start_time": "2022-06-22T17:27:25.027765",
     "status": "completed"
    },
    "tags": []
   },
   "source": [
    "# CNN"
   ]
  },
  {
   "cell_type": "markdown",
   "id": "ef35484a",
   "metadata": {
    "papermill": {
     "duration": 0.040432,
     "end_time": "2022-06-22T17:27:25.151077",
     "exception": false,
     "start_time": "2022-06-22T17:27:25.110645",
     "status": "completed"
    },
    "tags": []
   },
   "source": [
    "Helpful link: https://towardsdatascience.com/applied-deep-learning-part-4-convolutional-neural-networks-584bc134c1e2\n",
    "\n",
    "Video on activation functions: https://youtu.be/m0pIlLfpXWE\n",
    "\n",
    "**Documentation**\n",
    "\n",
    "Convolution2D layer: This is best explaned in the link above. Usually convolution is done with 3x3 filters, stride 1, with padding. The number of feature maps is also a hyperparameter which you just have to experiment with. From observation of other CNN models for this data 4 or 6 total convolutional layers was common.\n",
    "\n",
    "MaxPooling2D layer: Also best explained in the link above. \n",
    "\n",
    "Dropout (also explained well in the link above) is a technique that drops neurons from the neural network or 'ignores' them during training, in other words, different neurons are removed from the network on a temporary basis. The Dropout layer randomly sets input units to 0 with a frequency of rate at each step during training time, which helps prevent overfitting. Inputs not set to 0 are scaled up by 1/(1 - rate) such that the sum over all inputs is unchanged.\n",
    "\n",
    "Flattening is simply arranging the 3D volume of numbers into a 1D vector\n",
    "\n",
    "\n",
    "All of the hyperparamters can be messed with once we start evaluating accuracy of the model\n"
   ]
  },
  {
   "cell_type": "code",
   "execution_count": 11,
   "id": "f829b92c",
   "metadata": {
    "execution": {
     "iopub.execute_input": "2022-06-22T17:27:25.234864Z",
     "iopub.status.busy": "2022-06-22T17:27:25.234535Z",
     "iopub.status.idle": "2022-06-22T17:27:25.448584Z",
     "shell.execute_reply": "2022-06-22T17:27:25.447512Z"
    },
    "papermill": {
     "duration": 0.25818,
     "end_time": "2022-06-22T17:27:25.450924",
     "exception": false,
     "start_time": "2022-06-22T17:27:25.192744",
     "status": "completed"
    },
    "tags": []
   },
   "outputs": [
    {
     "name": "stderr",
     "output_type": "stream",
     "text": [
      "2022-06-22 17:27:25.278519: I tensorflow/core/common_runtime/process_util.cc:146] Creating new thread pool with default inter op setting: 2. Tune using inter_op_parallelism_threads for best performance.\n"
     ]
    }
   ],
   "source": [
    "model = Sequential()\n",
    "model.add(Conv2D(filters = 32, kernel_size = (5,5),padding = 'Same', activation ='relu', input_shape = (28,28,1)))\n",
    "model.add(Conv2D(filters = 32, kernel_size = (5,5),padding = 'Same', activation ='relu'))\n",
    "model.add(MaxPooling2D())\n",
    "model.add(Dropout(0.25))\n",
    "model.add(Conv2D(filters = 64, kernel_size = (3,3),padding = 'Same', activation ='relu'))\n",
    "model.add(Conv2D(filters = 64, kernel_size = (3,3),padding = 'Same', activation ='relu'))\n",
    "model.add(MaxPooling2D())\n",
    "model.add(Dropout(0.25))\n",
    "model.add(Flatten())\n",
    "model.add(Dense(512, activation='relu'))\n",
    "model.add(Dropout(0.25))\n",
    "model.add(Dense(10, activation='softmax'))\n"
   ]
  },
  {
   "cell_type": "markdown",
   "id": "4b73d1d7",
   "metadata": {
    "papermill": {
     "duration": 0.041145,
     "end_time": "2022-06-22T17:27:25.533462",
     "exception": false,
     "start_time": "2022-06-22T17:27:25.492317",
     "status": "completed"
    },
    "tags": []
   },
   "source": [
    "# Set the optimizer and annealer"
   ]
  },
  {
   "cell_type": "markdown",
   "id": "46989d8f",
   "metadata": {
    "papermill": {
     "duration": 0.042647,
     "end_time": "2022-06-22T17:27:25.617379",
     "exception": false,
     "start_time": "2022-06-22T17:27:25.574732",
     "status": "completed"
    },
    "tags": []
   },
   "source": [
    "\n",
    "Three functions: Loss, Optimizing Alg, and score function\n",
    "\n",
    "Loss function mesures how poorly our model is on images with known values. \"It is the error rate between the observed labels and the predicted ones.\"\n",
    "\n",
    "Optimizers are used to update the model in repsonse to the output of the loss function. It will iteratively improve values so that it will minimize the loss. Optimizers we can use are RMSprop**, Stochastic Gradient Descent (SGD for short), and Adam(?).\n",
    "\n",
    "The score function is similair to the loss function in that it will evealuate the performance of the running model but differs from the loss in that the results will not be used when training the mode."
   ]
  },
  {
   "cell_type": "code",
   "execution_count": 12,
   "id": "acf776a2",
   "metadata": {
    "execution": {
     "iopub.execute_input": "2022-06-22T17:27:25.701647Z",
     "iopub.status.busy": "2022-06-22T17:27:25.701291Z",
     "iopub.status.idle": "2022-06-22T17:27:25.706067Z",
     "shell.execute_reply": "2022-06-22T17:27:25.705324Z"
    },
    "papermill": {
     "duration": 0.049615,
     "end_time": "2022-06-22T17:27:25.708252",
     "exception": false,
     "start_time": "2022-06-22T17:27:25.658637",
     "status": "completed"
    },
    "tags": []
   },
   "outputs": [],
   "source": [
    "# Define the optimizer (This is using RMS)\n",
    "optimizer = tf.keras.optimizers.RMSprop(learning_rate=0.001, rho=0.9, epsilon=1e-08, decay=0.0)"
   ]
  },
  {
   "cell_type": "code",
   "execution_count": 13,
   "id": "dfc9fff0",
   "metadata": {
    "execution": {
     "iopub.execute_input": "2022-06-22T17:27:25.793221Z",
     "iopub.status.busy": "2022-06-22T17:27:25.792892Z",
     "iopub.status.idle": "2022-06-22T17:27:25.808160Z",
     "shell.execute_reply": "2022-06-22T17:27:25.807445Z"
    },
    "papermill": {
     "duration": 0.060757,
     "end_time": "2022-06-22T17:27:25.810804",
     "exception": false,
     "start_time": "2022-06-22T17:27:25.750047",
     "status": "completed"
    },
    "tags": []
   },
   "outputs": [],
   "source": [
    "# Compile the model\n",
    "model.compile(optimizer = optimizer , loss = \"categorical_crossentropy\", metrics=[\"accuracy\"])"
   ]
  },
  {
   "cell_type": "markdown",
   "id": "8fbf3a50",
   "metadata": {
    "papermill": {
     "duration": 0.042363,
     "end_time": "2022-06-22T17:27:25.895097",
     "exception": false,
     "start_time": "2022-06-22T17:27:25.852734",
     "status": "completed"
    },
    "tags": []
   },
   "source": [
    "LEARNING RATE ANNEALING:\n",
    "https://analyticsindiamag.com/how-to-use-learning-rate-annealing-with-neural-networks/"
   ]
  },
  {
   "cell_type": "markdown",
   "id": "f23025e9",
   "metadata": {
    "papermill": {
     "duration": 0.043932,
     "end_time": "2022-06-22T17:27:25.983744",
     "exception": false,
     "start_time": "2022-06-22T17:27:25.939812",
     "status": "completed"
    },
    "tags": []
   },
   "source": [
    "# Data augmentation"
   ]
  },
  {
   "cell_type": "code",
   "execution_count": 14,
   "id": "aa9c72c6",
   "metadata": {
    "execution": {
     "iopub.execute_input": "2022-06-22T17:27:26.074481Z",
     "iopub.status.busy": "2022-06-22T17:27:26.073821Z",
     "iopub.status.idle": "2022-06-22T17:27:26.242835Z",
     "shell.execute_reply": "2022-06-22T17:27:26.241910Z"
    },
    "papermill": {
     "duration": 0.217216,
     "end_time": "2022-06-22T17:27:26.245356",
     "exception": false,
     "start_time": "2022-06-22T17:27:26.028140",
     "status": "completed"
    },
    "tags": []
   },
   "outputs": [],
   "source": [
    "datagen = ImageDataGenerator(\n",
    "        featurewise_center=False,  # set input mean to 0 over the dataset\n",
    "        samplewise_center=False,  # set each sample mean to 0\n",
    "        featurewise_std_normalization=False,  # divide inputs by std of the dataset\n",
    "        samplewise_std_normalization=False,  # divide each input by its std\n",
    "        zca_whitening=False,  # apply ZCA whitening\n",
    "        rotation_range=10,  # randomly rotate images in the range (degrees, 0 to 180)\n",
    "        zoom_range = 0.1, # Randomly zoom image \n",
    "        width_shift_range=0.1,  # randomly shift images horizontally (fraction of total width)\n",
    "        height_shift_range=0.1,  # randomly shift images vertically (fraction of total height)\n",
    "        horizontal_flip=False,  # randomly flip images\n",
    "        vertical_flip=False)  # randomly flip images\n",
    "\n",
    "\n",
    "datagen.fit(x_train)"
   ]
  },
  {
   "cell_type": "code",
   "execution_count": 15,
   "id": "3f7c091f",
   "metadata": {
    "execution": {
     "iopub.execute_input": "2022-06-22T17:27:26.331988Z",
     "iopub.status.busy": "2022-06-22T17:27:26.331671Z",
     "iopub.status.idle": "2022-06-22T17:27:26.336961Z",
     "shell.execute_reply": "2022-06-22T17:27:26.335644Z"
    },
    "papermill": {
     "duration": 0.05139,
     "end_time": "2022-06-22T17:27:26.339297",
     "exception": false,
     "start_time": "2022-06-22T17:27:26.287907",
     "status": "completed"
    },
    "tags": []
   },
   "outputs": [],
   "source": [
    "learning_rate_reduction = ReduceLROnPlateau(monitor='val_acc', \n",
    "                                            patience=3, \n",
    "                                            verbose=1, \n",
    "                                            factor=0.5, \n",
    "                                            min_lr=0.00001)"
   ]
  },
  {
   "cell_type": "code",
   "execution_count": 16,
   "id": "6570cd29",
   "metadata": {
    "execution": {
     "iopub.execute_input": "2022-06-22T17:27:26.424895Z",
     "iopub.status.busy": "2022-06-22T17:27:26.424535Z",
     "iopub.status.idle": "2022-06-22T17:29:49.784298Z",
     "shell.execute_reply": "2022-06-22T17:29:49.783059Z"
    },
    "papermill": {
     "duration": 143.40736,
     "end_time": "2022-06-22T17:29:49.788165",
     "exception": false,
     "start_time": "2022-06-22T17:27:26.380805",
     "status": "completed"
    },
    "tags": []
   },
   "outputs": [
    {
     "name": "stderr",
     "output_type": "stream",
     "text": [
      "2022-06-22 17:27:26.650283: I tensorflow/compiler/mlir/mlir_graph_optimization_pass.cc:185] None of the MLIR Optimization Passes are enabled (registered 2)\n"
     ]
    },
    {
     "name": "stdout",
     "output_type": "stream",
     "text": [
      "439/439 - 90s - loss: 0.3630 - accuracy: 0.8832 - val_loss: 0.0671 - val_accuracy: 0.9798\n"
     ]
    }
   ],
   "source": [
    "# Fit the model\n",
    "batch_size = 86\n",
    "epochs = 1\n",
    "history = model.fit(datagen.flow(x_train,y_train, batch_size=batch_size),\n",
    "                              epochs = epochs, validation_data = (x_temptest,y_temptest),\n",
    "                              verbose = 2, steps_per_epoch=x_train.shape[0] // batch_size\n",
    "                              , callbacks=[learning_rate_reduction])"
   ]
  },
  {
   "cell_type": "markdown",
   "id": "40db202f",
   "metadata": {
    "papermill": {
     "duration": 0.046943,
     "end_time": "2022-06-22T17:29:49.883205",
     "exception": false,
     "start_time": "2022-06-22T17:29:49.836262",
     "status": "completed"
    },
    "tags": []
   },
   "source": [
    "# Evaluating model"
   ]
  },
  {
   "cell_type": "code",
   "execution_count": null,
   "id": "e96f1452",
   "metadata": {
    "papermill": {
     "duration": 0.042954,
     "end_time": "2022-06-22T17:29:49.972024",
     "exception": false,
     "start_time": "2022-06-22T17:29:49.929070",
     "status": "completed"
    },
    "tags": []
   },
   "outputs": [],
   "source": []
  },
  {
   "cell_type": "code",
   "execution_count": null,
   "id": "635dd2f2",
   "metadata": {
    "papermill": {
     "duration": 0.04465,
     "end_time": "2022-06-22T17:29:50.062452",
     "exception": false,
     "start_time": "2022-06-22T17:29:50.017802",
     "status": "completed"
    },
    "tags": []
   },
   "outputs": [],
   "source": []
  },
  {
   "cell_type": "code",
   "execution_count": null,
   "id": "bc2923a4",
   "metadata": {
    "papermill": {
     "duration": 0.0461,
     "end_time": "2022-06-22T17:29:50.156584",
     "exception": false,
     "start_time": "2022-06-22T17:29:50.110484",
     "status": "completed"
    },
    "tags": []
   },
   "outputs": [],
   "source": []
  },
  {
   "cell_type": "code",
   "execution_count": null,
   "id": "002fc462",
   "metadata": {
    "papermill": {
     "duration": 0.044932,
     "end_time": "2022-06-22T17:29:50.244819",
     "exception": false,
     "start_time": "2022-06-22T17:29:50.199887",
     "status": "completed"
    },
    "tags": []
   },
   "outputs": [],
   "source": []
  },
  {
   "cell_type": "code",
   "execution_count": null,
   "id": "f8d21ff2",
   "metadata": {
    "papermill": {
     "duration": 0.047203,
     "end_time": "2022-06-22T17:29:50.339290",
     "exception": false,
     "start_time": "2022-06-22T17:29:50.292087",
     "status": "completed"
    },
    "tags": []
   },
   "outputs": [],
   "source": []
  },
  {
   "cell_type": "code",
   "execution_count": null,
   "id": "492e4cd5",
   "metadata": {
    "papermill": {
     "duration": 0.046311,
     "end_time": "2022-06-22T17:29:50.431954",
     "exception": false,
     "start_time": "2022-06-22T17:29:50.385643",
     "status": "completed"
    },
    "tags": []
   },
   "outputs": [],
   "source": []
  },
  {
   "cell_type": "code",
   "execution_count": null,
   "id": "905ec2a8",
   "metadata": {
    "papermill": {
     "duration": 0.042144,
     "end_time": "2022-06-22T17:29:50.518558",
     "exception": false,
     "start_time": "2022-06-22T17:29:50.476414",
     "status": "completed"
    },
    "tags": []
   },
   "outputs": [],
   "source": []
  },
  {
   "cell_type": "code",
   "execution_count": null,
   "id": "4d136639",
   "metadata": {
    "papermill": {
     "duration": 0.04308,
     "end_time": "2022-06-22T17:29:50.605588",
     "exception": false,
     "start_time": "2022-06-22T17:29:50.562508",
     "status": "completed"
    },
    "tags": []
   },
   "outputs": [],
   "source": []
  },
  {
   "cell_type": "code",
   "execution_count": null,
   "id": "22c4e203",
   "metadata": {
    "papermill": {
     "duration": 0.042909,
     "end_time": "2022-06-22T17:29:50.691736",
     "exception": false,
     "start_time": "2022-06-22T17:29:50.648827",
     "status": "completed"
    },
    "tags": []
   },
   "outputs": [],
   "source": []
  },
  {
   "cell_type": "code",
   "execution_count": null,
   "id": "7aede0c0",
   "metadata": {
    "papermill": {
     "duration": 0.04242,
     "end_time": "2022-06-22T17:29:50.776496",
     "exception": false,
     "start_time": "2022-06-22T17:29:50.734076",
     "status": "completed"
    },
    "tags": []
   },
   "outputs": [],
   "source": []
  },
  {
   "cell_type": "code",
   "execution_count": null,
   "id": "4fc66573",
   "metadata": {
    "papermill": {
     "duration": 0.042614,
     "end_time": "2022-06-22T17:29:50.863150",
     "exception": false,
     "start_time": "2022-06-22T17:29:50.820536",
     "status": "completed"
    },
    "tags": []
   },
   "outputs": [],
   "source": []
  },
  {
   "cell_type": "code",
   "execution_count": null,
   "id": "8ac87aad",
   "metadata": {
    "papermill": {
     "duration": 0.042739,
     "end_time": "2022-06-22T17:29:50.951520",
     "exception": false,
     "start_time": "2022-06-22T17:29:50.908781",
     "status": "completed"
    },
    "tags": []
   },
   "outputs": [],
   "source": []
  },
  {
   "cell_type": "code",
   "execution_count": null,
   "id": "ea1b2173",
   "metadata": {
    "papermill": {
     "duration": 0.047508,
     "end_time": "2022-06-22T17:29:51.046454",
     "exception": false,
     "start_time": "2022-06-22T17:29:50.998946",
     "status": "completed"
    },
    "tags": []
   },
   "outputs": [],
   "source": []
  },
  {
   "cell_type": "code",
   "execution_count": null,
   "id": "ea10fe21",
   "metadata": {
    "papermill": {
     "duration": 0.052648,
     "end_time": "2022-06-22T17:29:51.144965",
     "exception": false,
     "start_time": "2022-06-22T17:29:51.092317",
     "status": "completed"
    },
    "tags": []
   },
   "outputs": [],
   "source": []
  },
  {
   "cell_type": "code",
   "execution_count": null,
   "id": "5b002a91",
   "metadata": {
    "papermill": {
     "duration": 0.041907,
     "end_time": "2022-06-22T17:29:51.231459",
     "exception": false,
     "start_time": "2022-06-22T17:29:51.189552",
     "status": "completed"
    },
    "tags": []
   },
   "outputs": [],
   "source": []
  },
  {
   "cell_type": "code",
   "execution_count": null,
   "id": "86b01c32",
   "metadata": {
    "papermill": {
     "duration": 0.044333,
     "end_time": "2022-06-22T17:29:51.322136",
     "exception": false,
     "start_time": "2022-06-22T17:29:51.277803",
     "status": "completed"
    },
    "tags": []
   },
   "outputs": [],
   "source": []
  }
 ],
 "metadata": {
  "kernelspec": {
   "display_name": "Python 3",
   "language": "python",
   "name": "python3"
  },
  "language_info": {
   "codemirror_mode": {
    "name": "ipython",
    "version": 3
   },
   "file_extension": ".py",
   "mimetype": "text/x-python",
   "name": "python",
   "nbconvert_exporter": "python",
   "pygments_lexer": "ipython3",
   "version": "3.7.12"
  },
  "papermill": {
   "default_parameters": {},
   "duration": 180.902568,
   "end_time": "2022-06-22T17:29:53.995214",
   "environment_variables": {},
   "exception": null,
   "input_path": "__notebook__.ipynb",
   "output_path": "__notebook__.ipynb",
   "parameters": {},
   "start_time": "2022-06-22T17:26:53.092646",
   "version": "2.3.4"
  }
 },
 "nbformat": 4,
 "nbformat_minor": 5
}

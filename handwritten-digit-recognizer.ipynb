{
 "cells": [
  {
   "cell_type": "code",
   "execution_count": 1,
   "id": "19208d86",
   "metadata": {
    "_cell_guid": "b1076dfc-b9ad-4769-8c92-a6c4dae69d19",
    "_uuid": "8f2839f25d086af736a60e9eeb907d3b93b6e0e5",
    "execution": {
     "iopub.execute_input": "2022-08-03T22:13:30.534890Z",
     "iopub.status.busy": "2022-08-03T22:13:30.534495Z",
     "iopub.status.idle": "2022-08-03T22:13:38.100414Z",
     "shell.execute_reply": "2022-08-03T22:13:38.099409Z"
    },
    "papermill": {
     "duration": 7.613383,
     "end_time": "2022-08-03T22:13:38.103360",
     "exception": false,
     "start_time": "2022-08-03T22:13:30.489977",
     "status": "completed"
    },
    "tags": []
   },
   "outputs": [],
   "source": [
    "# This Python 3 environment comes with many helpful analytics libraries installed\n",
    "# It is defined by the kaggle/python Docker image: https://github.com/kaggle/docker-python\n",
    "# For example, here's several helpful packages to load\n",
    "\n",
    "# You can write up to 20GB to the current directory (/kaggle/working/) that gets preserved as output when you create a version using \"Save & Run All\" \n",
    "# You can also write temporary files to /kaggle/temp/, but they won't be saved outside of the current session\n",
    "\n",
    "# Input data files are available in the read-only \"../input/\" directory\n",
    "# For example, running this (by clicking run or pressing Shift+Enter) will list all files under the input directory\n",
    "\n",
    "# Shift + Enter to run current cell\n",
    "\n",
    "import numpy as np # linear algebra\n",
    "import pandas as pd # data processing, CSV file I/O (e.g. pd.read_csv)\n",
    "import pandas as pd\n",
    "import numpy as np\n",
    "import matplotlib.pyplot as plt\n",
    "import matplotlib.image as mpimg\n",
    "import seaborn as sns\n",
    "%matplotlib inline\n",
    "\n",
    "np.random.seed(2)\n",
    "\n",
    "import tensorflow as tf\n",
    "from tensorflow import keras\n",
    "from tensorflow.keras import layers\n",
    "\n",
    "from sklearn.model_selection import train_test_split\n",
    "from sklearn.metrics import confusion_matrix\n",
    "import itertools\n",
    "\n",
    "from keras.utils.np_utils import to_categorical # convert to one-hot-encoding\n",
    "from keras.models import Sequential\n",
    "from keras.layers import Dense, Dropout, Flatten, Conv2D, MaxPooling2D, Lambda\n",
    "from tensorflow.keras.optimizers import Adam\n",
    "from keras.preprocessing.image import ImageDataGenerator\n",
    "from keras.callbacks import ReduceLROnPlateau\n",
    "from keras import  backend as K\n",
    "\n",
    "from subprocess import check_output"
   ]
  },
  {
   "cell_type": "code",
   "execution_count": 2,
   "id": "78b6049c",
   "metadata": {
    "execution": {
     "iopub.execute_input": "2022-08-03T22:13:38.185214Z",
     "iopub.status.busy": "2022-08-03T22:13:38.184145Z",
     "iopub.status.idle": "2022-08-03T22:13:43.649967Z",
     "shell.execute_reply": "2022-08-03T22:13:43.648999Z"
    },
    "papermill": {
     "duration": 5.508155,
     "end_time": "2022-08-03T22:13:43.652580",
     "exception": false,
     "start_time": "2022-08-03T22:13:38.144425",
     "status": "completed"
    },
    "tags": []
   },
   "outputs": [],
   "source": [
    "train = pd.read_csv(\"../input/digit-recognizer/train.csv\")\n",
    "test = pd.read_csv(\"../input/digit-recognizer/test.csv\")"
   ]
  },
  {
   "cell_type": "code",
   "execution_count": 3,
   "id": "af7c360b",
   "metadata": {
    "execution": {
     "iopub.execute_input": "2022-08-03T22:13:43.730723Z",
     "iopub.status.busy": "2022-08-03T22:13:43.730445Z",
     "iopub.status.idle": "2022-08-03T22:13:43.757713Z",
     "shell.execute_reply": "2022-08-03T22:13:43.757003Z"
    },
    "papermill": {
     "duration": 0.068019,
     "end_time": "2022-08-03T22:13:43.759643",
     "exception": false,
     "start_time": "2022-08-03T22:13:43.691624",
     "status": "completed"
    },
    "tags": []
   },
   "outputs": [
    {
     "data": {
      "text/html": [
       "<div>\n",
       "<style scoped>\n",
       "    .dataframe tbody tr th:only-of-type {\n",
       "        vertical-align: middle;\n",
       "    }\n",
       "\n",
       "    .dataframe tbody tr th {\n",
       "        vertical-align: top;\n",
       "    }\n",
       "\n",
       "    .dataframe thead th {\n",
       "        text-align: right;\n",
       "    }\n",
       "</style>\n",
       "<table border=\"1\" class=\"dataframe\">\n",
       "  <thead>\n",
       "    <tr style=\"text-align: right;\">\n",
       "      <th></th>\n",
       "      <th>label</th>\n",
       "      <th>pixel0</th>\n",
       "      <th>pixel1</th>\n",
       "      <th>pixel2</th>\n",
       "      <th>pixel3</th>\n",
       "      <th>pixel4</th>\n",
       "      <th>pixel5</th>\n",
       "      <th>pixel6</th>\n",
       "      <th>pixel7</th>\n",
       "      <th>pixel8</th>\n",
       "      <th>...</th>\n",
       "      <th>pixel774</th>\n",
       "      <th>pixel775</th>\n",
       "      <th>pixel776</th>\n",
       "      <th>pixel777</th>\n",
       "      <th>pixel778</th>\n",
       "      <th>pixel779</th>\n",
       "      <th>pixel780</th>\n",
       "      <th>pixel781</th>\n",
       "      <th>pixel782</th>\n",
       "      <th>pixel783</th>\n",
       "    </tr>\n",
       "  </thead>\n",
       "  <tbody>\n",
       "    <tr>\n",
       "      <th>0</th>\n",
       "      <td>1</td>\n",
       "      <td>0</td>\n",
       "      <td>0</td>\n",
       "      <td>0</td>\n",
       "      <td>0</td>\n",
       "      <td>0</td>\n",
       "      <td>0</td>\n",
       "      <td>0</td>\n",
       "      <td>0</td>\n",
       "      <td>0</td>\n",
       "      <td>...</td>\n",
       "      <td>0</td>\n",
       "      <td>0</td>\n",
       "      <td>0</td>\n",
       "      <td>0</td>\n",
       "      <td>0</td>\n",
       "      <td>0</td>\n",
       "      <td>0</td>\n",
       "      <td>0</td>\n",
       "      <td>0</td>\n",
       "      <td>0</td>\n",
       "    </tr>\n",
       "    <tr>\n",
       "      <th>1</th>\n",
       "      <td>0</td>\n",
       "      <td>0</td>\n",
       "      <td>0</td>\n",
       "      <td>0</td>\n",
       "      <td>0</td>\n",
       "      <td>0</td>\n",
       "      <td>0</td>\n",
       "      <td>0</td>\n",
       "      <td>0</td>\n",
       "      <td>0</td>\n",
       "      <td>...</td>\n",
       "      <td>0</td>\n",
       "      <td>0</td>\n",
       "      <td>0</td>\n",
       "      <td>0</td>\n",
       "      <td>0</td>\n",
       "      <td>0</td>\n",
       "      <td>0</td>\n",
       "      <td>0</td>\n",
       "      <td>0</td>\n",
       "      <td>0</td>\n",
       "    </tr>\n",
       "    <tr>\n",
       "      <th>2</th>\n",
       "      <td>1</td>\n",
       "      <td>0</td>\n",
       "      <td>0</td>\n",
       "      <td>0</td>\n",
       "      <td>0</td>\n",
       "      <td>0</td>\n",
       "      <td>0</td>\n",
       "      <td>0</td>\n",
       "      <td>0</td>\n",
       "      <td>0</td>\n",
       "      <td>...</td>\n",
       "      <td>0</td>\n",
       "      <td>0</td>\n",
       "      <td>0</td>\n",
       "      <td>0</td>\n",
       "      <td>0</td>\n",
       "      <td>0</td>\n",
       "      <td>0</td>\n",
       "      <td>0</td>\n",
       "      <td>0</td>\n",
       "      <td>0</td>\n",
       "    </tr>\n",
       "    <tr>\n",
       "      <th>3</th>\n",
       "      <td>4</td>\n",
       "      <td>0</td>\n",
       "      <td>0</td>\n",
       "      <td>0</td>\n",
       "      <td>0</td>\n",
       "      <td>0</td>\n",
       "      <td>0</td>\n",
       "      <td>0</td>\n",
       "      <td>0</td>\n",
       "      <td>0</td>\n",
       "      <td>...</td>\n",
       "      <td>0</td>\n",
       "      <td>0</td>\n",
       "      <td>0</td>\n",
       "      <td>0</td>\n",
       "      <td>0</td>\n",
       "      <td>0</td>\n",
       "      <td>0</td>\n",
       "      <td>0</td>\n",
       "      <td>0</td>\n",
       "      <td>0</td>\n",
       "    </tr>\n",
       "    <tr>\n",
       "      <th>4</th>\n",
       "      <td>0</td>\n",
       "      <td>0</td>\n",
       "      <td>0</td>\n",
       "      <td>0</td>\n",
       "      <td>0</td>\n",
       "      <td>0</td>\n",
       "      <td>0</td>\n",
       "      <td>0</td>\n",
       "      <td>0</td>\n",
       "      <td>0</td>\n",
       "      <td>...</td>\n",
       "      <td>0</td>\n",
       "      <td>0</td>\n",
       "      <td>0</td>\n",
       "      <td>0</td>\n",
       "      <td>0</td>\n",
       "      <td>0</td>\n",
       "      <td>0</td>\n",
       "      <td>0</td>\n",
       "      <td>0</td>\n",
       "      <td>0</td>\n",
       "    </tr>\n",
       "  </tbody>\n",
       "</table>\n",
       "<p>5 rows × 785 columns</p>\n",
       "</div>"
      ],
      "text/plain": [
       "   label  pixel0  pixel1  pixel2  pixel3  pixel4  pixel5  pixel6  pixel7  \\\n",
       "0      1       0       0       0       0       0       0       0       0   \n",
       "1      0       0       0       0       0       0       0       0       0   \n",
       "2      1       0       0       0       0       0       0       0       0   \n",
       "3      4       0       0       0       0       0       0       0       0   \n",
       "4      0       0       0       0       0       0       0       0       0   \n",
       "\n",
       "   pixel8  ...  pixel774  pixel775  pixel776  pixel777  pixel778  pixel779  \\\n",
       "0       0  ...         0         0         0         0         0         0   \n",
       "1       0  ...         0         0         0         0         0         0   \n",
       "2       0  ...         0         0         0         0         0         0   \n",
       "3       0  ...         0         0         0         0         0         0   \n",
       "4       0  ...         0         0         0         0         0         0   \n",
       "\n",
       "   pixel780  pixel781  pixel782  pixel783  \n",
       "0         0         0         0         0  \n",
       "1         0         0         0         0  \n",
       "2         0         0         0         0  \n",
       "3         0         0         0         0  \n",
       "4         0         0         0         0  \n",
       "\n",
       "[5 rows x 785 columns]"
      ]
     },
     "execution_count": 3,
     "metadata": {},
     "output_type": "execute_result"
    }
   ],
   "source": [
    "train.head()"
   ]
  },
  {
   "cell_type": "code",
   "execution_count": 4,
   "id": "37365197",
   "metadata": {
    "execution": {
     "iopub.execute_input": "2022-08-03T22:13:43.842116Z",
     "iopub.status.busy": "2022-08-03T22:13:43.841518Z",
     "iopub.status.idle": "2022-08-03T22:13:43.960413Z",
     "shell.execute_reply": "2022-08-03T22:13:43.959512Z"
    },
    "papermill": {
     "duration": 0.162189,
     "end_time": "2022-08-03T22:13:43.963507",
     "exception": false,
     "start_time": "2022-08-03T22:13:43.801318",
     "status": "completed"
    },
    "tags": []
   },
   "outputs": [],
   "source": [
    "# separate lables and pixel data\n",
    "x_train = train.drop(labels = ['label'], axis = 1)\n",
    "y_train = train['label']"
   ]
  },
  {
   "cell_type": "markdown",
   "id": "17826cd5",
   "metadata": {
    "papermill": {
     "duration": 0.038683,
     "end_time": "2022-08-03T22:13:44.041178",
     "exception": false,
     "start_time": "2022-08-03T22:13:44.002495",
     "status": "completed"
    },
    "tags": []
   },
   "source": [
    "# Feature Scaling, Normalize to (0-1)"
   ]
  },
  {
   "cell_type": "markdown",
   "id": "2a459260",
   "metadata": {
    "papermill": {
     "duration": 0.038254,
     "end_time": "2022-08-03T22:13:44.118063",
     "exception": false,
     "start_time": "2022-08-03T22:13:44.079809",
     "status": "completed"
    },
    "tags": []
   },
   "source": [
    "Normalization to reduce effects of illumination differences. CNN will work faster. Normalization is reccommended for neural networks over standardization"
   ]
  },
  {
   "cell_type": "code",
   "execution_count": 5,
   "id": "9dca819c",
   "metadata": {
    "execution": {
     "iopub.execute_input": "2022-08-03T22:13:44.196952Z",
     "iopub.status.busy": "2022-08-03T22:13:44.196652Z",
     "iopub.status.idle": "2022-08-03T22:13:44.332457Z",
     "shell.execute_reply": "2022-08-03T22:13:44.331418Z"
    },
    "papermill": {
     "duration": 0.178148,
     "end_time": "2022-08-03T22:13:44.334950",
     "exception": false,
     "start_time": "2022-08-03T22:13:44.156802",
     "status": "completed"
    },
    "tags": []
   },
   "outputs": [
    {
     "name": "stdout",
     "output_type": "stream",
     "text": [
      "x_train (42000, 784)\n",
      "test (28000, 784)\n"
     ]
    }
   ],
   "source": [
    "x_train = x_train / 255.0\n",
    "test = test / 255.0\n",
    "\n",
    "print('x_train', x_train.shape)\n",
    "print('test', test.shape)"
   ]
  },
  {
   "cell_type": "code",
   "execution_count": null,
   "id": "614e9fb8",
   "metadata": {
    "papermill": {
     "duration": 0.039016,
     "end_time": "2022-08-03T22:13:44.414395",
     "exception": false,
     "start_time": "2022-08-03T22:13:44.375379",
     "status": "completed"
    },
    "tags": []
   },
   "outputs": [],
   "source": []
  },
  {
   "cell_type": "markdown",
   "id": "4753557d",
   "metadata": {
    "papermill": {
     "duration": 0.040122,
     "end_time": "2022-08-03T22:13:44.493631",
     "exception": false,
     "start_time": "2022-08-03T22:13:44.453509",
     "status": "completed"
    },
    "tags": []
   },
   "source": [
    "# Reshape to 28x28"
   ]
  },
  {
   "cell_type": "markdown",
   "id": "1e47065b",
   "metadata": {
    "papermill": {
     "duration": 0.038909,
     "end_time": "2022-08-03T22:13:44.573225",
     "exception": false,
     "start_time": "2022-08-03T22:13:44.534316",
     "status": "completed"
    },
    "tags": []
   },
   "source": [
    "Change to a 28 x 28 x 1 3D matrices with 1 being the black-white (greyscale) value. The first parameter (-1) is simply grabbing the number of images in the dataset"
   ]
  },
  {
   "cell_type": "code",
   "execution_count": 6,
   "id": "68125d4b",
   "metadata": {
    "execution": {
     "iopub.execute_input": "2022-08-03T22:13:44.652116Z",
     "iopub.status.busy": "2022-08-03T22:13:44.651845Z",
     "iopub.status.idle": "2022-08-03T22:13:44.658456Z",
     "shell.execute_reply": "2022-08-03T22:13:44.657445Z"
    },
    "papermill": {
     "duration": 0.049523,
     "end_time": "2022-08-03T22:13:44.661500",
     "exception": false,
     "start_time": "2022-08-03T22:13:44.611977",
     "status": "completed"
    },
    "tags": []
   },
   "outputs": [
    {
     "name": "stdout",
     "output_type": "stream",
     "text": [
      "x_train (42000, 28, 28, 1)\n",
      "test (28000, 28, 28, 1)\n"
     ]
    }
   ],
   "source": [
    "x_train = x_train.values.reshape(-1,28,28,1)\n",
    "test = test.values.reshape(-1,28,28,1)\n",
    "\n",
    "print('x_train', x_train.shape)\n",
    "print('test', test.shape)"
   ]
  },
  {
   "cell_type": "markdown",
   "id": "c2323f73",
   "metadata": {
    "papermill": {
     "duration": 0.038887,
     "end_time": "2022-08-03T22:13:44.741040",
     "exception": false,
     "start_time": "2022-08-03T22:13:44.702153",
     "status": "completed"
    },
    "tags": []
   },
   "source": [
    "# Visualize Data"
   ]
  },
  {
   "cell_type": "code",
   "execution_count": 7,
   "id": "bd3c3c40",
   "metadata": {
    "execution": {
     "iopub.execute_input": "2022-08-03T22:13:44.821533Z",
     "iopub.status.busy": "2022-08-03T22:13:44.820698Z",
     "iopub.status.idle": "2022-08-03T22:13:45.162410Z",
     "shell.execute_reply": "2022-08-03T22:13:45.161277Z"
    },
    "papermill": {
     "duration": 0.384496,
     "end_time": "2022-08-03T22:13:45.164761",
     "exception": false,
     "start_time": "2022-08-03T22:13:44.780265",
     "status": "completed"
    },
    "tags": []
   },
   "outputs": [
    {
     "data": {
      "image/png": "[encoded data removed]",
      "text/plain": [
       "<Figure size 432x288 with 3 Axes>"
      ]
     },
     "metadata": {
      "needs_background": "light"
     },
     "output_type": "display_data"
    }
   ],
   "source": [
    "for i in range(6, 9):\n",
    "    plt.subplot(330 + (i+1))\n",
    "    plt.imshow(x_train[i], cmap=plt.get_cmap('gray'))\n",
    "    plt.title(y_train[i]);"
   ]
  },
  {
   "cell_type": "markdown",
   "id": "2de367a1",
   "metadata": {
    "papermill": {
     "duration": 0.040366,
     "end_time": "2022-08-03T22:13:45.246141",
     "exception": false,
     "start_time": "2022-08-03T22:13:45.205775",
     "status": "completed"
    },
    "tags": []
   },
   "source": [
    "# One-Hot-Encode"
   ]
  },
  {
   "cell_type": "markdown",
   "id": "45341779",
   "metadata": {
    "papermill": {
     "duration": 0.040147,
     "end_time": "2022-08-03T22:13:45.326882",
     "exception": false,
     "start_time": "2022-08-03T22:13:45.286735",
     "status": "completed"
    },
    "tags": []
   },
   "source": [
    "\"With one-hot, we convert each categorical value into a new categorical column and assign a binary value of 1 or 0 to those columns. Each integer value is represented as a binary vector. All the values are zero, and the index is marked with a 1.\n",
    "\n",
    "One hot encoding is useful for data that has no relationship to each other. Machine learning algorithms treat the order of numbers as an attribute of significance. In other words, they will read a higher number as better or more important than a lower number.\n",
    "\n",
    "While this is helpful for some ordinal situations, some input data does not have any ranking for category values, and this can lead to issues with predictions and poor performance. That’s when one hot encoding saves the day.\"\n",
    "\n",
    "* zero,   one,  two\n",
    "* 1,      0,      0\n",
    "* 0,      1,      0\n",
    "* 0,      0,      1\n",
    "* 0,      0,      0\n",
    "* 0,      0,      0\n",
    "* 0,      0,      0\n",
    "* 0,      0,      0\n",
    "* 0,      0,      0\n",
    "* 0,      0,      0\n",
    "* 0,      0,      0\n",
    "\n",
    "num_classes is 10 because the digit can be 0-9"
   ]
  },
  {
   "cell_type": "code",
   "execution_count": 8,
   "id": "f6142062",
   "metadata": {
    "execution": {
     "iopub.execute_input": "2022-08-03T22:13:45.410619Z",
     "iopub.status.busy": "2022-08-03T22:13:45.409572Z",
     "iopub.status.idle": "2022-08-03T22:13:45.415045Z",
     "shell.execute_reply": "2022-08-03T22:13:45.414494Z"
    },
    "papermill": {
     "duration": 0.049211,
     "end_time": "2022-08-03T22:13:45.416863",
     "exception": false,
     "start_time": "2022-08-03T22:13:45.367652",
     "status": "completed"
    },
    "tags": []
   },
   "outputs": [],
   "source": [
    "y_train = to_categorical(y_train, num_classes = 10)"
   ]
  },
  {
   "cell_type": "markdown",
   "id": "4cbec132",
   "metadata": {
    "papermill": {
     "duration": 0.040219,
     "end_time": "2022-08-03T22:13:45.497527",
     "exception": false,
     "start_time": "2022-08-03T22:13:45.457308",
     "status": "completed"
    },
    "tags": []
   },
   "source": [
    "# Train Test Split"
   ]
  },
  {
   "cell_type": "markdown",
   "id": "524e4797",
   "metadata": {
    "papermill": {
     "duration": 0.039787,
     "end_time": "2022-08-03T22:13:45.578089",
     "exception": false,
     "start_time": "2022-08-03T22:13:45.538302",
     "status": "completed"
    },
    "tags": []
   },
   "source": [
    "Define a single variable that contains a static random seed and use it across pipeline in order to reproduce the same randomness everytime the algorithm is run "
   ]
  },
  {
   "cell_type": "code",
   "execution_count": 9,
   "id": "0ff0db9d",
   "metadata": {
    "execution": {
     "iopub.execute_input": "2022-08-03T22:13:45.660398Z",
     "iopub.status.busy": "2022-08-03T22:13:45.659853Z",
     "iopub.status.idle": "2022-08-03T22:13:45.663224Z",
     "shell.execute_reply": "2022-08-03T22:13:45.662676Z"
    },
    "papermill": {
     "duration": 0.047083,
     "end_time": "2022-08-03T22:13:45.665353",
     "exception": false,
     "start_time": "2022-08-03T22:13:45.618270",
     "status": "completed"
    },
    "tags": []
   },
   "outputs": [],
   "source": [
    "seed_value = 3"
   ]
  },
  {
   "cell_type": "markdown",
   "id": "9f7c3ed6",
   "metadata": {
    "papermill": {
     "duration": 0.040838,
     "end_time": "2022-08-03T22:13:45.747486",
     "exception": false,
     "start_time": "2022-08-03T22:13:45.706648",
     "status": "completed"
    },
    "tags": []
   },
   "source": [
    "* test size is 10%\n",
    "* train size is 90%\n",
    "\n",
    "**test_sizefloat or int, default=None**\n",
    "If float, should be between 0.0 and 1.0 and represent the proportion of the dataset to include in the test split. If int, represents the absolute number of test samples. If None, the value is set to the complement of the train size. If train_size is also None, it will be set to 0.25.\n",
    "\n",
    "10% of the training set will be used as the validation set which the model is evaluated and 90% is used to train the model\n",
    "\n",
    "We can choose this at random because the dataset is balanced\n",
    "\n",
    "**random_stateint, RandomState instance or None, default=None**\n",
    "Controls the shuffling applied to the data before applying the split. Pass an int for reproducible output across multiple function calls. "
   ]
  },
  {
   "cell_type": "code",
   "execution_count": 10,
   "id": "2688ed87",
   "metadata": {
    "execution": {
     "iopub.execute_input": "2022-08-03T22:13:45.831104Z",
     "iopub.status.busy": "2022-08-03T22:13:45.830550Z",
     "iopub.status.idle": "2022-08-03T22:13:46.452688Z",
     "shell.execute_reply": "2022-08-03T22:13:46.451709Z"
    },
    "papermill": {
     "duration": 0.666757,
     "end_time": "2022-08-03T22:13:46.455120",
     "exception": false,
     "start_time": "2022-08-03T22:13:45.788363",
     "status": "completed"
    },
    "tags": []
   },
   "outputs": [],
   "source": [
    "x_train, x_temptest, y_train, y_temptest = train_test_split(x_train, y_train, test_size = 0.1, random_state = seed_value)"
   ]
  },
  {
   "cell_type": "markdown",
   "id": "7e8417a8",
   "metadata": {
    "papermill": {
     "duration": 0.041308,
     "end_time": "2022-08-03T22:13:46.536791",
     "exception": false,
     "start_time": "2022-08-03T22:13:46.495483",
     "status": "completed"
    },
    "tags": []
   },
   "source": [
    "# CNN"
   ]
  },
  {
   "cell_type": "markdown",
   "id": "753ec1d1",
   "metadata": {
    "papermill": {
     "duration": 0.040052,
     "end_time": "2022-08-03T22:13:46.618290",
     "exception": false,
     "start_time": "2022-08-03T22:13:46.578238",
     "status": "completed"
    },
    "tags": []
   },
   "source": [
    "Helpful link: https://towardsdatascience.com/applied-deep-learning-part-4-convolutional-neural-networks-584bc134c1e2\n",
    "\n",
    "Video on activation functions: https://youtu.be/m0pIlLfpXWE\n",
    "\n",
    "**Documentation**\n",
    "\n",
    "Convolution2D layer: This is best explaned in the link above. Usually convolution is done with 3x3 filters, stride 1, with padding. The number of feature maps is also a hyperparameter which you just have to experiment with. From observation of other CNN models for this data 4 or 6 total convolutional layers was common.\n",
    "\n",
    "MaxPooling2D layer: Also best explained in the link above. \n",
    "\n",
    "Dropout (also explained well in the link above) is a technique that drops neurons from the neural network or 'ignores' them during training, in other words, different neurons are removed from the network on a temporary basis. The Dropout layer randomly sets input units to 0 with a frequency of rate at each step during training time, which helps prevent overfitting. Inputs not set to 0 are scaled up by 1/(1 - rate) such that the sum over all inputs is unchanged.\n",
    "\n",
    "Flattening is simply arranging the 3D volume of numbers into a 1D vector\n",
    "\n",
    "\n",
    "All of the hyperparamters can be messed with once we start evaluating accuracy of the model\n"
   ]
  },
  {
   "cell_type": "code",
   "execution_count": 11,
   "id": "98761b89",
   "metadata": {
    "execution": {
     "iopub.execute_input": "2022-08-03T22:13:46.701129Z",
     "iopub.status.busy": "2022-08-03T22:13:46.700777Z",
     "iopub.status.idle": "2022-08-03T22:13:46.889275Z",
     "shell.execute_reply": "2022-08-03T22:13:46.888671Z"
    },
    "papermill": {
     "duration": 0.232755,
     "end_time": "2022-08-03T22:13:46.891567",
     "exception": false,
     "start_time": "2022-08-03T22:13:46.658812",
     "status": "completed"
    },
    "tags": []
   },
   "outputs": [
    {
     "name": "stderr",
     "output_type": "stream",
     "text": [
      "2022-08-03 22:13:46.744716: I tensorflow/core/common_runtime/process_util.cc:146] Creating new thread pool with default inter op setting: 2. Tune using inter_op_parallelism_threads for best performance.\n"
     ]
    }
   ],
   "source": [
    "model = Sequential()\n",
    "model.add(Conv2D(filters = 32, kernel_size = (5,5),padding = 'Same', activation ='relu', input_shape = (28,28,1)))\n",
    "model.add(Conv2D(filters = 32, kernel_size = (5,5),padding = 'Same', activation ='relu'))\n",
    "model.add(MaxPooling2D())\n",
    "model.add(Dropout(0.25))\n",
    "model.add(Conv2D(filters = 64, kernel_size = (3,3),padding = 'Same', activation ='relu'))\n",
    "model.add(Conv2D(filters = 64, kernel_size = (3,3),padding = 'Same', activation ='relu'))\n",
    "model.add(MaxPooling2D())\n",
    "model.add(Dropout(0.25))\n",
    "model.add(Flatten())\n",
    "model.add(Dense(512, activation='relu'))\n",
    "model.add(Dropout(0.25))\n",
    "model.add(Dense(10, activation='softmax'))"
   ]
  },
  {
   "cell_type": "markdown",
   "id": "e093b4a5",
   "metadata": {
    "papermill": {
     "duration": 0.040161,
     "end_time": "2022-08-03T22:13:46.972093",
     "exception": false,
     "start_time": "2022-08-03T22:13:46.931932",
     "status": "completed"
    },
    "tags": []
   },
   "source": [
    "# Set the optimizer and annealer"
   ]
  },
  {
   "cell_type": "markdown",
   "id": "243c435c",
   "metadata": {
    "papermill": {
     "duration": 0.04079,
     "end_time": "2022-08-03T22:13:47.053053",
     "exception": false,
     "start_time": "2022-08-03T22:13:47.012263",
     "status": "completed"
    },
    "tags": []
   },
   "source": [
    "\n",
    "Three functions: Loss, Optimizing Alg, and score function\n",
    "\n",
    "Loss function mesures how poorly our model is on images with known values. \"It is the error rate between the observed labels and the predicted ones.\"\n",
    "\n",
    "Optimizers are used to update the model in repsonse to the output of the loss function. It will iteratively improve values so that it will minimize the loss. Optimizers we can use are RMSprop**, Stochastic Gradient Descent (SGD for short), and Adam(?).\n",
    "\n",
    "The score function is similair to the loss function in that it will evealuate the performance of the running model but differs from the loss in that the results will not be used when training the mode."
   ]
  },
  {
   "cell_type": "code",
   "execution_count": 12,
   "id": "81271585",
   "metadata": {
    "execution": {
     "iopub.execute_input": "2022-08-03T22:13:47.136432Z",
     "iopub.status.busy": "2022-08-03T22:13:47.135834Z",
     "iopub.status.idle": "2022-08-03T22:13:47.140002Z",
     "shell.execute_reply": "2022-08-03T22:13:47.139467Z"
    },
    "papermill": {
     "duration": 0.04809,
     "end_time": "2022-08-03T22:13:47.141942",
     "exception": false,
     "start_time": "2022-08-03T22:13:47.093852",
     "status": "completed"
    },
    "tags": []
   },
   "outputs": [],
   "source": [
    "# Define the optimizer (This is using RMS)\n",
    "optimizer = tf.keras.optimizers.RMSprop(learning_rate=0.001, rho=0.9, epsilon=1e-08, decay=0.0)"
   ]
  },
  {
   "cell_type": "code",
   "execution_count": 13,
   "id": "f6826d63",
   "metadata": {
    "execution": {
     "iopub.execute_input": "2022-08-03T22:13:47.225366Z",
     "iopub.status.busy": "2022-08-03T22:13:47.224869Z",
     "iopub.status.idle": "2022-08-03T22:13:47.238087Z",
     "shell.execute_reply": "2022-08-03T22:13:47.237404Z"
    },
    "papermill": {
     "duration": 0.057571,
     "end_time": "2022-08-03T22:13:47.240467",
     "exception": false,
     "start_time": "2022-08-03T22:13:47.182896",
     "status": "completed"
    },
    "tags": []
   },
   "outputs": [],
   "source": [
    "# Compile the model\n",
    "model.compile(optimizer = optimizer , loss = \"categorical_crossentropy\", metrics=[\"accuracy\"])"
   ]
  },
  {
   "cell_type": "markdown",
   "id": "a9dbf2ea",
   "metadata": {
    "papermill": {
     "duration": 0.040697,
     "end_time": "2022-08-03T22:13:47.322549",
     "exception": false,
     "start_time": "2022-08-03T22:13:47.281852",
     "status": "completed"
    },
    "tags": []
   },
   "source": [
    "LEARNING RATE ANNEALING:\n",
    "https://analyticsindiamag.com/how-to-use-learning-rate-annealing-with-neural-networks/"
   ]
  },
  {
   "cell_type": "markdown",
   "id": "9ea40477",
   "metadata": {
    "papermill": {
     "duration": 0.041387,
     "end_time": "2022-08-03T22:13:47.408110",
     "exception": false,
     "start_time": "2022-08-03T22:13:47.366723",
     "status": "completed"
    },
    "tags": []
   },
   "source": [
    "# Data augmentation"
   ]
  },
  {
   "cell_type": "code",
   "execution_count": 14,
   "id": "970e9db8",
   "metadata": {
    "execution": {
     "iopub.execute_input": "2022-08-03T22:13:47.492887Z",
     "iopub.status.busy": "2022-08-03T22:13:47.492583Z",
     "iopub.status.idle": "2022-08-03T22:13:47.621925Z",
     "shell.execute_reply": "2022-08-03T22:13:47.621047Z"
    },
    "papermill": {
     "duration": 0.175629,
     "end_time": "2022-08-03T22:13:47.624701",
     "exception": false,
     "start_time": "2022-08-03T22:13:47.449072",
     "status": "completed"
    },
    "tags": []
   },
   "outputs": [],
   "source": [
    "datagen = ImageDataGenerator(\n",
    "        featurewise_center=False,  # set input mean to 0 over the dataset\n",
    "        samplewise_center=False,  # set each sample mean to 0\n",
    "        featurewise_std_normalization=False,  # divide inputs by std of the dataset\n",
    "        samplewise_std_normalization=False,  # divide each input by its std\n",
    "        zca_whitening=False,  # apply ZCA whitening\n",
    "        rotation_range=10,  # randomly rotate images in the range (degrees, 0 to 180)\n",
    "        zoom_range = 0.1, # Randomly zoom image \n",
    "        width_shift_range=0.1,  # randomly shift images horizontally (fraction of total width)\n",
    "        height_shift_range=0.1,  # randomly shift images vertically (fraction of total height)\n",
    "        horizontal_flip=False,  # randomly flip images\n",
    "        vertical_flip=False)  # randomly flip images\n",
    "\n",
    "\n",
    "datagen.fit(x_train)"
   ]
  },
  {
   "cell_type": "code",
   "execution_count": 15,
   "id": "eee65d91",
   "metadata": {
    "execution": {
     "iopub.execute_input": "2022-08-03T22:13:47.707923Z",
     "iopub.status.busy": "2022-08-03T22:13:47.707600Z",
     "iopub.status.idle": "2022-08-03T22:13:47.711911Z",
     "shell.execute_reply": "2022-08-03T22:13:47.711236Z"
    },
    "papermill": {
     "duration": 0.048616,
     "end_time": "2022-08-03T22:13:47.714212",
     "exception": false,
     "start_time": "2022-08-03T22:13:47.665596",
     "status": "completed"
    },
    "tags": []
   },
   "outputs": [],
   "source": [
    "learning_rate_reduction = ReduceLROnPlateau(monitor='val_loss', \n",
    "                                            patience=3, \n",
    "                                            verbose=1, \n",
    "                                            factor=0.5, \n",
    "                                            min_lr=0.00001)"
   ]
  },
  {
   "cell_type": "code",
   "execution_count": null,
   "id": "d7ca32f5",
   "metadata": {
    "execution": {
     "iopub.execute_input": "2022-08-03T21:50:46.595224Z",
     "iopub.status.busy": "2022-08-03T21:50:46.594999Z",
     "iopub.status.idle": "2022-08-03T21:52:08.857434Z",
     "shell.execute_reply": "2022-08-03T21:52:08.856656Z",
     "shell.execute_reply.started": "2022-08-03T21:50:46.595197Z"
    },
    "papermill": {
     "duration": 0.040328,
     "end_time": "2022-08-03T22:13:47.795860",
     "exception": false,
     "start_time": "2022-08-03T22:13:47.755532",
     "status": "completed"
    },
    "tags": []
   },
   "outputs": [],
   "source": []
  },
  {
   "cell_type": "code",
   "execution_count": null,
   "id": "209129af",
   "metadata": {
    "papermill": {
     "duration": 0.040372,
     "end_time": "2022-08-03T22:13:47.876940",
     "exception": false,
     "start_time": "2022-08-03T22:13:47.836568",
     "status": "completed"
    },
    "tags": []
   },
   "outputs": [],
   "source": []
  },
  {
   "cell_type": "markdown",
   "id": "cb68f9f1",
   "metadata": {
    "papermill": {
     "duration": 0.039891,
     "end_time": "2022-08-03T22:13:47.962778",
     "exception": false,
     "start_time": "2022-08-03T22:13:47.922887",
     "status": "completed"
    },
    "tags": []
   },
   "source": [
    "# Evaluating model"
   ]
  },
  {
   "cell_type": "code",
   "execution_count": 16,
   "id": "8c06e96f",
   "metadata": {
    "execution": {
     "iopub.execute_input": "2022-08-03T22:13:48.046139Z",
     "iopub.status.busy": "2022-08-03T22:13:48.045293Z",
     "iopub.status.idle": "2022-08-03T22:15:17.988175Z",
     "shell.execute_reply": "2022-08-03T22:15:17.987257Z"
    },
    "papermill": {
     "duration": 90.028353,
     "end_time": "2022-08-03T22:15:18.031505",
     "exception": false,
     "start_time": "2022-08-03T22:13:48.003152",
     "status": "completed"
    },
    "tags": []
   },
   "outputs": [
    {
     "name": "stderr",
     "output_type": "stream",
     "text": [
      "2022-08-03 22:13:48.215215: I tensorflow/compiler/mlir/mlir_graph_optimization_pass.cc:185] None of the MLIR Optimization Passes are enabled (registered 2)\n"
     ]
    },
    {
     "name": "stdout",
     "output_type": "stream",
     "text": [
      "439/439 - 90s - loss: 0.3364 - accuracy: 0.8904 - val_loss: 0.0768 - val_accuracy: 0.9752\n"
     ]
    }
   ],
   "source": [
    "# Fit the model\n",
    "batch_size = 86\n",
    "epochs = 1\n",
    "history = model.fit(datagen.flow(x_train,y_train, batch_size=batch_size),\n",
    "                              epochs = epochs, validation_data = (x_temptest,y_temptest),\n",
    "                              verbose = 2, steps_per_epoch=x_train.shape[0] // batch_size\n",
    "                              , callbacks=[learning_rate_reduction])"
   ]
  },
  {
   "cell_type": "code",
   "execution_count": 17,
   "id": "6cdd8f8c",
   "metadata": {
    "execution": {
     "iopub.execute_input": "2022-08-03T22:15:18.118589Z",
     "iopub.status.busy": "2022-08-03T22:15:18.118287Z",
     "iopub.status.idle": "2022-08-03T22:15:21.865799Z",
     "shell.execute_reply": "2022-08-03T22:15:21.864776Z"
    },
    "papermill": {
     "duration": 3.794837,
     "end_time": "2022-08-03T22:15:21.868444",
     "exception": false,
     "start_time": "2022-08-03T22:15:18.073607",
     "status": "completed"
    },
    "tags": []
   },
   "outputs": [
    {
     "data": {
      "image/png": "[encoded data removed]",
      "text/plain": [
       "<Figure size 432x288 with 2 Axes>"
      ]
     },
     "metadata": {
      "needs_background": "light"
     },
     "output_type": "display_data"
    }
   ],
   "source": [
    "def plot_confusion_matrix(cm, classes,\n",
    "                          normalize=False,\n",
    "                          title='Confusion matrix',\n",
    "                          cmap=plt.cm.Reds):\n",
    "    \"\"\"\n",
    "    This function prints and plots the confusion matrix.\n",
    "    Normalization can be applied by setting `normalize=True`.\n",
    "    \"\"\"\n",
    "    plt.imshow(cm, interpolation='nearest', cmap=cmap)\n",
    "    plt.title(title)\n",
    "    plt.colorbar()\n",
    "    tick_marks = np.arange(len(classes))\n",
    "    plt.xticks(tick_marks, classes, rotation=45)\n",
    "    plt.yticks(tick_marks, classes)\n",
    "\n",
    "    if normalize:\n",
    "        cm = cm.astype('float') / cm.sum(axis=1)[:, np.newaxis]\n",
    "\n",
    "    thresh = cm.max() / 2.\n",
    "    for i, j in itertools.product(range(cm.shape[0]), range(cm.shape[1])):\n",
    "        plt.text(j, i, cm[i, j],\n",
    "                 horizontalalignment=\"center\",\n",
    "                 color=\"white\" if cm[i, j] > thresh else \"black\")\n",
    "    plt.tight_layout()\n",
    "    plt.ylabel('True label')\n",
    "    plt.xlabel('Predicted label')\n",
    "\n",
    "# Predict the values from the validation dataset\n",
    "Y_pred = model.predict(x_temptest)\n",
    "# Convert predictions classes to one hot vectors \n",
    "Y_pred_classes = np.argmax(Y_pred,axis = 1) \n",
    "# Convert validation observations to one hot vectors\n",
    "Y_true = np.argmax(y_temptest,axis = 1) \n",
    "# compute the confusion matrix\n",
    "confusion_mtx = confusion_matrix(Y_true, Y_pred_classes) \n",
    "# plot the confusion matrix\n",
    "plot_confusion_matrix(confusion_mtx, classes = range(10)) "
   ]
  },
  {
   "cell_type": "code",
   "execution_count": null,
   "id": "62c6b2b4",
   "metadata": {
    "papermill": {
     "duration": 0.04296,
     "end_time": "2022-08-03T22:15:21.954710",
     "exception": false,
     "start_time": "2022-08-03T22:15:21.911750",
     "status": "completed"
    },
    "tags": []
   },
   "outputs": [],
   "source": []
  },
  {
   "cell_type": "code",
   "execution_count": null,
   "id": "2f906de8",
   "metadata": {
    "papermill": {
     "duration": 0.043703,
     "end_time": "2022-08-03T22:15:22.042889",
     "exception": false,
     "start_time": "2022-08-03T22:15:21.999186",
     "status": "completed"
    },
    "tags": []
   },
   "outputs": [],
   "source": []
  },
  {
   "cell_type": "code",
   "execution_count": null,
   "id": "a148ff0e",
   "metadata": {
    "papermill": {
     "duration": 0.042709,
     "end_time": "2022-08-03T22:15:22.130567",
     "exception": false,
     "start_time": "2022-08-03T22:15:22.087858",
     "status": "completed"
    },
    "tags": []
   },
   "outputs": [],
   "source": []
  },
  {
   "cell_type": "code",
   "execution_count": null,
   "id": "d80ad7b2",
   "metadata": {
    "papermill": {
     "duration": 0.042644,
     "end_time": "2022-08-03T22:15:22.216661",
     "exception": false,
     "start_time": "2022-08-03T22:15:22.174017",
     "status": "completed"
    },
    "tags": []
   },
   "outputs": [],
   "source": []
  },
  {
   "cell_type": "code",
   "execution_count": null,
   "id": "f7684557",
   "metadata": {
    "papermill": {
     "duration": 0.042916,
     "end_time": "2022-08-03T22:15:22.302563",
     "exception": false,
     "start_time": "2022-08-03T22:15:22.259647",
     "status": "completed"
    },
    "tags": []
   },
   "outputs": [],
   "source": []
  },
  {
   "cell_type": "code",
   "execution_count": null,
   "id": "ae9fec0c",
   "metadata": {
    "papermill": {
     "duration": 0.04299,
     "end_time": "2022-08-03T22:15:22.390045",
     "exception": false,
     "start_time": "2022-08-03T22:15:22.347055",
     "status": "completed"
    },
    "tags": []
   },
   "outputs": [],
   "source": []
  },
  {
   "cell_type": "code",
   "execution_count": null,
   "id": "76bc0b51",
   "metadata": {
    "papermill": {
     "duration": 0.042704,
     "end_time": "2022-08-03T22:15:22.476382",
     "exception": false,
     "start_time": "2022-08-03T22:15:22.433678",
     "status": "completed"
    },
    "tags": []
   },
   "outputs": [],
   "source": []
  },
  {
   "cell_type": "code",
   "execution_count": null,
   "id": "b4b0563f",
   "metadata": {
    "papermill": {
     "duration": 0.042706,
     "end_time": "2022-08-03T22:15:22.562314",
     "exception": false,
     "start_time": "2022-08-03T22:15:22.519608",
     "status": "completed"
    },
    "tags": []
   },
   "outputs": [],
   "source": []
  },
  {
   "cell_type": "code",
   "execution_count": null,
   "id": "5a0a4df6",
   "metadata": {
    "papermill": {
     "duration": 0.04424,
     "end_time": "2022-08-03T22:15:22.649437",
     "exception": false,
     "start_time": "2022-08-03T22:15:22.605197",
     "status": "completed"
    },
    "tags": []
   },
   "outputs": [],
   "source": []
  },
  {
   "cell_type": "code",
   "execution_count": null,
   "id": "ee6443a7",
   "metadata": {
    "papermill": {
     "duration": 0.042541,
     "end_time": "2022-08-03T22:15:22.735278",
     "exception": false,
     "start_time": "2022-08-03T22:15:22.692737",
     "status": "completed"
    },
    "tags": []
   },
   "outputs": [],
   "source": []
  },
  {
   "cell_type": "code",
   "execution_count": null,
   "id": "0b78c212",
   "metadata": {
    "papermill": {
     "duration": 0.044047,
     "end_time": "2022-08-03T22:15:22.822697",
     "exception": false,
     "start_time": "2022-08-03T22:15:22.778650",
     "status": "completed"
    },
    "tags": []
   },
   "outputs": [],
   "source": []
  },
  {
   "cell_type": "code",
   "execution_count": null,
   "id": "708a7e18",
   "metadata": {
    "papermill": {
     "duration": 0.042088,
     "end_time": "2022-08-03T22:15:22.907732",
     "exception": false,
     "start_time": "2022-08-03T22:15:22.865644",
     "status": "completed"
    },
    "tags": []
   },
   "outputs": [],
   "source": []
  },
  {
   "cell_type": "code",
   "execution_count": null,
   "id": "906ea2c3",
   "metadata": {
    "papermill": {
     "duration": 0.043527,
     "end_time": "2022-08-03T22:15:22.994515",
     "exception": false,
     "start_time": "2022-08-03T22:15:22.950988",
     "status": "completed"
    },
    "tags": []
   },
   "outputs": [],
   "source": []
  },
  {
   "cell_type": "code",
   "execution_count": null,
   "id": "b611b8d4",
   "metadata": {
    "papermill": {
     "duration": 0.042555,
     "end_time": "2022-08-03T22:15:23.080817",
     "exception": false,
     "start_time": "2022-08-03T22:15:23.038262",
     "status": "completed"
    },
    "tags": []
   },
   "outputs": [],
   "source": []
  },
  {
   "cell_type": "code",
   "execution_count": null,
   "id": "d3ecf064",
   "metadata": {
    "papermill": {
     "duration": 0.04222,
     "end_time": "2022-08-03T22:15:23.165311",
     "exception": false,
     "start_time": "2022-08-03T22:15:23.123091",
     "status": "completed"
    },
    "tags": []
   },
   "outputs": [],
   "source": []
  }
 ],
 "metadata": {
  "kernelspec": {
   "display_name": "Python 3",
   "language": "python",
   "name": "python3"
  },
  "language_info": {
   "codemirror_mode": {
    "name": "ipython",
    "version": 3
   },
   "file_extension": ".py",
   "mimetype": "text/x-python",
   "name": "python",
   "nbconvert_exporter": "python",
   "pygments_lexer": "ipython3",
   "version": "3.7.12"
  },
  "papermill": {
   "default_parameters": {},
   "duration": 125.746385,
   "end_time": "2022-08-03T22:15:26.643225",
   "environment_variables": {},
   "exception": null,
   "input_path": "__notebook__.ipynb",
   "output_path": "__notebook__.ipynb",
   "parameters": {},
   "start_time": "2022-08-03T22:13:20.896840",
   "version": "2.3.4"
  }
 },
 "nbformat": 4,
 "nbformat_minor": 5
}
